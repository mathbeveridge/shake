{
 "cells": [
  {
   "cell_type": "code",
   "execution_count": 3,
   "metadata": {
    "collapsed": true
   },
   "outputs": [],
   "source": [
    "import mysql.connector as sql\n",
    "import pandas as pd"
   ]
  },
  {
   "cell_type": "code",
   "execution_count": 4,
   "metadata": {
    "collapsed": true
   },
   "outputs": [],
   "source": [
    "con = sql.connect(host='localhost', database='shakespeare', user='root', password='ty970323')"
   ]
  },
  {
   "cell_type": "code",
   "execution_count": 5,
   "metadata": {
    "collapsed": true
   },
   "outputs": [],
   "source": [
    "df = pd.read_sql('SELECT * FROM Paragraphs', con=con)"
   ]
  },
  {
   "cell_type": "code",
   "execution_count": 6,
   "metadata": {},
   "outputs": [
    {
     "data": {
      "text/html": [
       "<div>\n",
       "<style>\n",
       "    .dataframe thead tr:only-child th {\n",
       "        text-align: right;\n",
       "    }\n",
       "\n",
       "    .dataframe thead th {\n",
       "        text-align: left;\n",
       "    }\n",
       "\n",
       "    .dataframe tbody tr th {\n",
       "        vertical-align: top;\n",
       "    }\n",
       "</style>\n",
       "<table border=\"1\" class=\"dataframe\">\n",
       "  <thead>\n",
       "    <tr style=\"text-align: right;\">\n",
       "      <th></th>\n",
       "      <th>WorkID</th>\n",
       "      <th>ParagraphID</th>\n",
       "      <th>ParagraphNum</th>\n",
       "      <th>CharID</th>\n",
       "      <th>PlainText</th>\n",
       "      <th>PhoneticText</th>\n",
       "      <th>StemText</th>\n",
       "      <th>ParagraphType</th>\n",
       "      <th>Section</th>\n",
       "      <th>Chapter</th>\n",
       "      <th>CharCount</th>\n",
       "      <th>WordCount</th>\n",
       "    </tr>\n",
       "  </thead>\n",
       "  <tbody>\n",
       "    <tr>\n",
       "      <th>0</th>\n",
       "      <td>allswell</td>\n",
       "      <td>859862</td>\n",
       "      <td>1</td>\n",
       "      <td>xxx</td>\n",
       "      <td>Enter BERTRAM, the COUNTESS of Rousillon, HELE...</td>\n",
       "      <td>ENTR BRTRM 0 KNTS OF RSLN HLN ANT LF AL IN BLK</td>\n",
       "      <td>enter bertram the countess of rousillon helen...</td>\n",
       "      <td>b</td>\n",
       "      <td>1</td>\n",
       "      <td>1</td>\n",
       "      <td>79</td>\n",
       "      <td>12</td>\n",
       "    </tr>\n",
       "    <tr>\n",
       "      <th>1</th>\n",
       "      <td>allswell</td>\n",
       "      <td>859863</td>\n",
       "      <td>3</td>\n",
       "      <td>Countess-aw</td>\n",
       "      <td>In delivering my son from me, I bury a second ...</td>\n",
       "      <td>IN TLFRNK M SN FRM M I BR A SKNT HSBNT</td>\n",
       "      <td>in deliv my son from me i buri a second husband</td>\n",
       "      <td>b</td>\n",
       "      <td>1</td>\n",
       "      <td>1</td>\n",
       "      <td>55</td>\n",
       "      <td>11</td>\n",
       "    </tr>\n",
       "    <tr>\n",
       "      <th>2</th>\n",
       "      <td>allswell</td>\n",
       "      <td>859864</td>\n",
       "      <td>4</td>\n",
       "      <td>BERTRAM</td>\n",
       "      <td>And I in going, madam, weep o'er my father's d...</td>\n",
       "      <td>ANT I IN KNK MTM WP OR M F0RS T0 AN BT I MST ...</td>\n",
       "      <td>and i in go madam weep oer my father death an...</td>\n",
       "      <td>b</td>\n",
       "      <td>1</td>\n",
       "      <td>1</td>\n",
       "      <td>154</td>\n",
       "      <td>28</td>\n",
       "    </tr>\n",
       "    <tr>\n",
       "      <th>3</th>\n",
       "      <td>allswell</td>\n",
       "      <td>859865</td>\n",
       "      <td>7</td>\n",
       "      <td>LAFEU</td>\n",
       "      <td>You shall find of the king a husband, madam; y...</td>\n",
       "      <td>Y XL FNT OF 0 KNK A HSBNT MTM Y SR A F0R H 0T...</td>\n",
       "      <td>you shall find of the king a husband madam yo...</td>\n",
       "      <td>b</td>\n",
       "      <td>1</td>\n",
       "      <td>1</td>\n",
       "      <td>262</td>\n",
       "      <td>48</td>\n",
       "    </tr>\n",
       "    <tr>\n",
       "      <th>4</th>\n",
       "      <td>allswell</td>\n",
       "      <td>859866</td>\n",
       "      <td>12</td>\n",
       "      <td>Countess-aw</td>\n",
       "      <td>What hope is there of his majesty's amendment?\\n</td>\n",
       "      <td>HT HP IS 0R OF HS MJSTS AMNTMNT</td>\n",
       "      <td>what hope i there of hi majesti amend</td>\n",
       "      <td>b</td>\n",
       "      <td>1</td>\n",
       "      <td>1</td>\n",
       "      <td>47</td>\n",
       "      <td>8</td>\n",
       "    </tr>\n",
       "  </tbody>\n",
       "</table>\n",
       "</div>"
      ],
      "text/plain": [
       "     WorkID  ParagraphID  ParagraphNum       CharID  \\\n",
       "0  allswell       859862             1          xxx   \n",
       "1  allswell       859863             3  Countess-aw   \n",
       "2  allswell       859864             4      BERTRAM   \n",
       "3  allswell       859865             7        LAFEU   \n",
       "4  allswell       859866            12  Countess-aw   \n",
       "\n",
       "                                           PlainText  \\\n",
       "0  Enter BERTRAM, the COUNTESS of Rousillon, HELE...   \n",
       "1  In delivering my son from me, I bury a second ...   \n",
       "2  And I in going, madam, weep o'er my father's d...   \n",
       "3  You shall find of the king a husband, madam; y...   \n",
       "4   What hope is there of his majesty's amendment?\\n   \n",
       "\n",
       "                                        PhoneticText  \\\n",
       "0    ENTR BRTRM 0 KNTS OF RSLN HLN ANT LF AL IN BLK    \n",
       "1            IN TLFRNK M SN FRM M I BR A SKNT HSBNT    \n",
       "2   ANT I IN KNK MTM WP OR M F0RS T0 AN BT I MST ...   \n",
       "3   Y XL FNT OF 0 KNK A HSBNT MTM Y SR A F0R H 0T...   \n",
       "4                   HT HP IS 0R OF HS MJSTS AMNTMNT    \n",
       "\n",
       "                                            StemText ParagraphType  Section  \\\n",
       "0   enter bertram the countess of rousillon helen...             b        1   \n",
       "1   in deliv my son from me i buri a second husband              b        1   \n",
       "2   and i in go madam weep oer my father death an...             b        1   \n",
       "3   you shall find of the king a husband madam yo...             b        1   \n",
       "4             what hope i there of hi majesti amend              b        1   \n",
       "\n",
       "   Chapter  CharCount  WordCount  \n",
       "0        1         79         12  \n",
       "1        1         55         11  \n",
       "2        1        154         28  \n",
       "3        1        262         48  \n",
       "4        1         47          8  "
      ]
     },
     "execution_count": 6,
     "metadata": {},
     "output_type": "execute_result"
    }
   ],
   "source": [
    "df.head()"
   ]
  },
  {
   "cell_type": "code",
   "execution_count": 7,
   "metadata": {},
   "outputs": [
    {
     "data": {
      "text/plain": [
       "(35629, 12)"
      ]
     },
     "execution_count": 7,
     "metadata": {},
     "output_type": "execute_result"
    }
   ],
   "source": [
    "df.shape"
   ]
  },
  {
   "cell_type": "code",
   "execution_count": 8,
   "metadata": {
    "collapsed": true
   },
   "outputs": [],
   "source": [
    "def process_line(df, i, file):       # Write the character and text to the file\n",
    "    character = df['CharID'][i]\n",
    "    text = df['PlainText'][i]\n",
    "    file.write(character + ':' + '\\n')\n",
    "    text = text.replace('[p]', '')\n",
    "    if character == 'xxx':\n",
    "        while text[0] == ' ':\n",
    "            text = text[1:len(text)]\n",
    "        if text[0] != '[':\n",
    "            text = text.replace('[', '(')\n",
    "            text = text.replace(']', ')')\n",
    "            text = '[' + text\n",
    "            text = text[0:len(text) - 2] + ']\\n'\n",
    "    file.write(text + '\\n')\n",
    "    file.write('\\n')"
   ]
  },
  {
   "cell_type": "code",
   "execution_count": 9,
   "metadata": {
    "collapsed": true
   },
   "outputs": [],
   "source": [
    "prev_play = ''\n",
    "prev_chapter = 1\n",
    "prev_section = 1\n",
    "cur_file = None\n",
    "for i in range(len(df.WorkID)):\n",
    "    \n",
    "    if df.WorkID[i] != prev_play:\n",
    "        if i > 0:\n",
    "            cur_file.close()\n",
    "        cur_file = open(df.WorkID[i] + '.txt', 'w')\n",
    "        prev_play = df.WorkID[i]\n",
    "        prev_chapter = 1\n",
    "        prev_section = 1\n",
    "        cur_file.write('Act 1, Scene 1\\n\\n')    # new play\n",
    "    elif df.Section[i] != prev_section:\n",
    "        cur_file.write('****************************************\\n\\n\\n')   # Act change\n",
    "        cur_file.write('Act ' + str(df.Section[i]) + ', Scene ' + str(df.Chapter[i]) + '\\n\\n')\n",
    "        prev_chapter = df.Chapter[i]\n",
    "        prev_section = df.Section[i]\n",
    "    elif df.Chapter[i] != prev_chapter:\n",
    "        cur_file.write('----------------------------------------\\n' + '\\n')   # Section change\n",
    "        cur_file.write('Act ' + str(df.Section[i]) + ', Scene ' + str(df.Chapter[i]) + '\\n\\n')\n",
    "        prev_chapter = df.Chapter[i]\n",
    "\n",
    "    \n",
    "    process_line(df, i, cur_file)\n",
    "\n",
    "    if i == len(df.WorkID) - 1:\n",
    "        cur_file.close()"
   ]
  }
 ],
 "metadata": {
  "kernelspec": {
   "display_name": "Python 3",
   "language": "python",
   "name": "python3"
  },
  "language_info": {
   "codemirror_mode": {
    "name": "ipython",
    "version": 3
   },
   "file_extension": ".py",
   "mimetype": "text/x-python",
   "name": "python",
   "nbconvert_exporter": "python",
   "pygments_lexer": "ipython3",
   "version": "3.6.3"
  }
 },
 "nbformat": 4,
 "nbformat_minor": 2
}
